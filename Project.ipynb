{
 "cells": [
  {
   "cell_type": "code",
   "execution_count": null,
   "metadata": {},
   "outputs": [],
   "source": [
    "import numpy as np\n",
    "\n",
    "def main(id):\n",
    "    user_data , y_train = find_data(users_file,id) #The watching or completed\n",
    "    anime_df = create_anime_df(file_name) #Enumrate geners and create vectors\n",
    "    #assert user_data.shape[1] == anime_df.shape[1]?\n",
    "    X_train = [vectorize_anime(anime) for anime in user_data]\n",
    "    #from anime_df pick random X animes (X=1000)\n",
    "    X_all = [vectorize_anime(anime) for anime in anime_df[:1000]]\n",
    "  \n",
    "    #create a lingear regression model with user_data and anime_df\n",
    "    # y is the user score\n",
    "    y_pred = _predict(X_train,y_train,X_all) #placeholder\n",
    "    #run those animes into regression model and pick top 3\n",
    "    top_three = np.sort(y_pred)[:3] #need to make sure index is appropiate\n",
    "    #print those names\n",
    "    \n",
    "    "
   ]
  }
 ],
 "metadata": {
  "language_info": {
   "name": "python"
  }
 },
 "nbformat": 4,
 "nbformat_minor": 2
}
