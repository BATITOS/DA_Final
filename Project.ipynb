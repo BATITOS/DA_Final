{
 "cells": [
  {
   "cell_type": "code",
   "execution_count": null,
   "metadata": {},
   "outputs": [],
   "source": [
    "def main(id):\n",
    "    user_data = find_data(users_file,id) #The watching or completed\n",
    "    anime_df = create_anime_df(file_name) #Enumrate geners and create vectors\n",
    "    \n",
    "    create   \n",
    "    \n",
    "    "
   ]
  }
 ],
 "metadata": {
  "language_info": {
   "name": "python"
  }
 },
 "nbformat": 4,
 "nbformat_minor": 2
}
